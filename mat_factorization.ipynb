{
  "nbformat": 4,
  "nbformat_minor": 0,
  "metadata": {
    "kernelspec": {
      "language": "python",
      "display_name": "Python 3",
      "name": "python3"
    },
    "language_info": {
      "name": "python",
      "version": "3.7.10",
      "mimetype": "text/x-python",
      "codemirror_mode": {
        "name": "ipython",
        "version": 3
      },
      "pygments_lexer": "ipython3",
      "nbconvert_exporter": "python",
      "file_extension": ".py"
    },
    "colab": {
      "name": "mat-factorization.ipynb",
      "provenance": [],
      "collapsed_sections": []
    }
  },
  "cells": [
    {
      "cell_type": "code",
      "metadata": {
        "trusted": true,
        "id": "7XyMRp3qrTsF"
      },
      "source": [
        "import torch\n",
        "import warnings\n",
        "import networkx as nx\n",
        "import matplotlib.pyplot as plt\n",
        "import scipy\n",
        "from scipy import io\n",
        "from pylab import *\n",
        "from copy import deepcopy\n",
        "from torch.utils.data import DataLoader\n",
        "import copy\n",
        "import torch.nn as nn\n",
        "import networkx as nx\n",
        "import torch.nn.functional as F\n",
        "import matplotlib.pyplot as plt\n",
        "import numpy as np\n",
        "from sklearn.metrics import roc_auc_score,precision_score,recall_score\n",
        "from tqdm.notebook import tqdm\n",
        "import numpy as np\n",
        "warnings.filterwarnings(\"ignore\")"
      ],
      "execution_count": null,
      "outputs": []
    },
    {
      "cell_type": "code",
      "metadata": {
        "trusted": true,
        "id": "dysaIeBqrTsJ"
      },
      "source": [
        "mat = scipy.sparse.load_npz('deep_patient_matrix.npz')  ## Adjacency Matrix"
      ],
      "execution_count": null,
      "outputs": []
    },
    {
      "cell_type": "code",
      "metadata": {
        "trusted": true,
        "id": "Y9b7WZSWrTsJ"
      },
      "source": [
        "import torch\n",
        "import numpy as np\n",
        "import matplotlib.pyplot as plt\n",
        "import torch.nn as nn\n",
        "import torch.optim as optim\n",
        "import pandas as pd"
      ],
      "execution_count": null,
      "outputs": []
    },
    {
      "cell_type": "code",
      "metadata": {
        "trusted": true,
        "id": "W26i48fcrTsK"
      },
      "source": [
        "mat2=mat.nonzero() ## index of rows and columns having edge\n",
        "mat2 = torch.tensor(mat2).to('cuda')"
      ],
      "execution_count": null,
      "outputs": []
    },
    {
      "cell_type": "code",
      "metadata": {
        "trusted": true,
        "id": "R1JfUuD3rTsK"
      },
      "source": [
        "## splitting into train and test set\n",
        "k = 0\n",
        "prev = 0\n",
        "sz = 0\n",
        "psz=0\n",
        "testpsz=0\n",
        "testsz=0\n",
        "mat_train0 = torch.ones(3021969).to('cuda')\n",
        "mat_train1 = torch.ones(3021969).to('cuda')\n",
        "mat_test1 = torch.ones(1200000).to('cuda')\n",
        "mat_test2 = torch.ones(1200000).to('cuda')\n",
        "for i in tqdm(range(len(mat.nonzero()[0]))):\n",
        "    if mat2[0][i] == k :\n",
        "        continue\n",
        "    k = k+1    \n",
        "    if i-prev > 50 :\n",
        "        psz=sz\n",
        "        sz = sz+i-prev-40\n",
        "        mat_test1[testsz:testsz+40] = mat2[0][i-40:i]\n",
        "        mat_test2[testsz:testsz+40] = mat2[1][i-40:i]\n",
        "        testsz = testsz+40\n",
        "        mat_train0[psz:sz] = mat2[0][prev:i-40]\n",
        "        mat_train1[psz:sz] = mat2[1][prev:i-40]\n",
        "    else :\n",
        "        psz=sz\n",
        "        sz = sz+i-prev\n",
        "        mat_train0[psz:sz] = mat2[0][prev:i]\n",
        "        mat_train1[psz:sz] = mat2[1][prev:i]\n",
        "    prev = i"
      ],
      "execution_count": null,
      "outputs": []
    },
    {
      "cell_type": "code",
      "metadata": {
        "trusted": true,
        "id": "9qrJgK3trTsL"
      },
      "source": [
        "class Recommender(nn.Module):\n",
        "    def __init__(self,num_users,num_artists,num_factors):\n",
        "        super().__init__()\n",
        "        self.u = nn.Embedding(num_users,num_factors)\n",
        "        self.a = nn.Embedding(num_artists,num_factors)\n",
        "        self.u.weight.data.uniform_(-.01,.01)\n",
        "        self.a.weight.data.uniform_(-.01,.01)\n",
        "        self.ub = nn.Embedding(num_users,1)\n",
        "        self.ab = nn.Embedding(num_artists,1)\n",
        "        self.ub.weight.data.uniform_(-.01,.01)\n",
        "        self.ab.weight.data.uniform_(-.01,.01)\n",
        "     \n",
        "    def forward(self,index1,index2,test = 0):\n",
        "        us,art = self.u(index1) , self.a(index2)\n",
        "        dp = (us*art).sum(1)\n",
        "        dpb = dp+self.ub(index1).squeeze()+self.ab(index2).squeeze()\n",
        "        if test == 1 :\n",
        "            return self.u,self.ub,self.a,self.ab\n",
        "        return dpb"
      ],
      "execution_count": null,
      "outputs": []
    },
    {
      "cell_type": "code",
      "metadata": {
        "trusted": true,
        "id": "Ojs6t7xdrTsM"
      },
      "source": [
        "train_pat = mat_train0[:sz].cpu()  ## indices of patients\n",
        "train_icd = mat_train1[:sz].cpu()-30000  ## indices of diseases"
      ],
      "execution_count": null,
      "outputs": []
    },
    {
      "cell_type": "code",
      "metadata": {
        "trusted": true,
        "id": "o7gi0zN6rTsM"
      },
      "source": [
        "train_pat = torch.tensor(train_pat)\n",
        "train_icd = torch.tensor(train_icd)"
      ],
      "execution_count": null,
      "outputs": []
    },
    {
      "cell_type": "code",
      "metadata": {
        "trusted": true,
        "id": "rEjtHhpOrTsN"
      },
      "source": [
        "model = Recommender(30000,47364,16)\n",
        "device = torch.device('cuda' if torch.cuda.is_available() else 'cpu')\n",
        "model = model.to(device)\n",
        "optimizer = torch.optim.SGD(model.parameters(), lr=1, momentum=0.9, weight_decay=5e-4)\n",
        "y = torch.ones(sz,)\n",
        "y = y.to(device)"
      ],
      "execution_count": null,
      "outputs": []
    },
    {
      "cell_type": "code",
      "metadata": {
        "trusted": true,
        "id": "Wd2OKu7jrTsN"
      },
      "source": [
        "train_pat = train_pat.long()\n",
        "train_icd = train_icd.long()"
      ],
      "execution_count": null,
      "outputs": []
    },
    {
      "cell_type": "code",
      "metadata": {
        "trusted": true,
        "id": "qRfe9dN3rTsO"
      },
      "source": [
        "epochs = 200\n",
        "model = model.to(device)\n",
        "for epoch in tqdm(range(1, epochs)):\n",
        "    model.train()\n",
        "    optimizer.zero_grad()\n",
        "    train_pat = train_pat.to(device)\n",
        "    train_icd = train_icd.to(device)\n",
        "    pred = model(train_pat,train_icd)\n",
        "    #print(pred.shape)\n",
        "    loss = torch.sum((y-pred) ** 2)/sz\n",
        "    loss.backward()\n",
        "    optimizer.step()\n",
        "    if epoch %10 ==0 :\n",
        "        print(loss)"
      ],
      "execution_count": null,
      "outputs": []
    },
    {
      "cell_type": "code",
      "metadata": {
        "trusted": true,
        "id": "5wtPo-VErTsO"
      },
      "source": [
        "pat,pat_b,icd,icd_b = model(train_pat,train_icd,test=1)"
      ],
      "execution_count": null,
      "outputs": []
    },
    {
      "cell_type": "code",
      "metadata": {
        "trusted": true,
        "id": "hDbFlxvUrTsO"
      },
      "source": [
        "pat_idx = torch.ones(30000,).long().to(device)\n",
        "icd_idx = torch.ones(47364,).long().to(device)\n",
        "for i in range(30000):\n",
        "    pat_idx[i] = i\n",
        "    icd_idx[i] = i\n",
        "for i in range(30000,47364):\n",
        "    icd_idx[i] = i"
      ],
      "execution_count": null,
      "outputs": []
    },
    {
      "cell_type": "code",
      "metadata": {
        "trusted": true,
        "id": "TRvHrxwBrTsP"
      },
      "source": [
        "patient = pat(pat_idx)+pat_b(pat_idx)\n",
        "icdcode = icd(icd_idx)+icd_b(icd_idx)"
      ],
      "execution_count": null,
      "outputs": []
    },
    {
      "cell_type": "code",
      "metadata": {
        "trusted": true,
        "id": "EO3GoTw5rTsP"
      },
      "source": [
        "nrecommend = 100\n",
        "total_recommendable = 3021969\n",
        "hit = 0\n",
        "for k in tqdm(range(30)):\n",
        "    pred = patient[(k)*1000:(k+1)*1000].matmul(icdcode.t())\n",
        "    sorted, indices = torch.sort(pred)\n",
        "    for i in range(1000):\n",
        "       for j in range(nrecommend):\n",
        "          if mat[i,indices[i][47363-j].item()+30000] == 1 :\n",
        "            hit=hit+1\n",
        "precision = hit/(30000*nrecommend)\n",
        "recall = hit/total_recommendable\n",
        "print(\"no of hits = \",hit,\"Recall = \", recall,\"Precison = \",precision)            "
      ],
      "execution_count": null,
      "outputs": []
    },
    {
      "cell_type": "code",
      "metadata": {
        "id": "47l5WQPYrTsP"
      },
      "source": [
        "### prediction for patient \n",
        "id = 1 ## id or index no of patient\n",
        "top_k = 10 ## top k predictions\n",
        "icd_code = np.load('Models/icd_codes.npy',allow_pickle = True)\n",
        "pred = patient[id].matmul(icdcodes[30000:].t())\n",
        "sorted, indices = torch.sort(pred)\n",
        "for j in range(top_k-1,-1,-1):\n",
        "   idx = indices[47363-j].item()\n",
        "   if mat[idx+30000] == 1 :\n",
        "       print(icd_code[idx],\"Hit\")\n",
        "   else:\n",
        "       print(icd_code[idx],\"Miss\")"
      ],
      "execution_count": null,
      "outputs": []
    }
  ]
}