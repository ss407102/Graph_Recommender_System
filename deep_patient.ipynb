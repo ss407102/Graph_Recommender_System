{
  "nbformat": 4,
  "nbformat_minor": 0,
  "metadata": {
    "kernelspec": {
      "language": "python",
      "display_name": "Python 3",
      "name": "python3"
    },
    "language_info": {
      "name": "python",
      "version": "3.7.10",
      "mimetype": "text/x-python",
      "codemirror_mode": {
        "name": "ipython",
        "version": 3
      },
      "pygments_lexer": "ipython3",
      "nbconvert_exporter": "python",
      "file_extension": ".py"
    },
    "colab": {
      "name": "deep-patient.ipynb",
      "provenance": [],
      "collapsed_sections": []
    }
  },
  "cells": [
    {
      "cell_type": "code",
      "metadata": {
        "execution": {
          "iopub.status.busy": "2021-07-09T14:36:31.003091Z",
          "iopub.execute_input": "2021-07-09T14:36:31.003516Z",
          "iopub.status.idle": "2021-07-09T14:38:09.752347Z",
          "shell.execute_reply.started": "2021-07-09T14:36:31.003425Z",
          "shell.execute_reply": "2021-07-09T14:38:09.751453Z"
        },
        "trusted": true,
        "id": "9n6wIW6LchR0",
        "outputId": "18204f29-607c-41a6-83a4-8e633bb576b2"
      },
      "source": [
        "!pip install --upgrade torch torchvision"
      ],
      "execution_count": null,
      "outputs": [
        {
          "output_type": "stream",
          "text": [
            "Requirement already satisfied: torch in /opt/conda/lib/python3.7/site-packages (1.7.0)\n",
            "Collecting torch\n",
            "  Downloading torch-1.9.0-cp37-cp37m-manylinux1_x86_64.whl (831.4 MB)\n",
            "\u001b[K     |████████████████████████████████| 831.4 MB 1.7 kB/s  eta 0:00:01    |██▎                             | 60.4 MB 36.1 MB/s eta 0:00:22     |███                             | 80.7 MB 36.1 MB/s eta 0:00:21     |█████████████████▋              | 457.6 MB 21.9 MB/s eta 0:00:18     |██████████████████              | 470.1 MB 21.9 MB/s eta 0:00:17     |█████████████████████████████   | 752.3 MB 43.8 MB/s eta 0:00:02     |█████████████████████████████▋  | 770.6 MB 43.8 MB/s eta 0:00:02     |██████████████████████████████  | 777.3 MB 12.7 MB/s eta 0:00:05     |██████████████████████████████  | 780.5 MB 12.7 MB/s eta 0:00:05     |██████████████████████████████▍ | 789.3 MB 12.7 MB/s eta 0:00:04     |██████████████████████████████▌ | 792.5 MB 12.7 MB/s eta 0:00:04\n",
            "\u001b[?25hRequirement already satisfied: torchvision in /opt/conda/lib/python3.7/site-packages (0.8.1)\n",
            "Collecting torchvision\n",
            "  Downloading torchvision-0.10.0-cp37-cp37m-manylinux1_x86_64.whl (22.1 MB)\n",
            "\u001b[K     |████████████████████████████████| 22.1 MB 349 kB/s  eta 0:00:01\n",
            "\u001b[?25hRequirement already satisfied: typing-extensions in /opt/conda/lib/python3.7/site-packages (from torch) (3.7.4.3)\n",
            "Requirement already satisfied: pillow>=5.3.0 in /opt/conda/lib/python3.7/site-packages (from torchvision) (8.2.0)\n",
            "Requirement already satisfied: numpy in /opt/conda/lib/python3.7/site-packages (from torchvision) (1.19.5)\n",
            "Installing collected packages: torch, torchvision\n",
            "  Attempting uninstall: torch\n",
            "    Found existing installation: torch 1.7.0\n",
            "    Uninstalling torch-1.7.0:\n",
            "      Successfully uninstalled torch-1.7.0\n",
            "  Attempting uninstall: torchvision\n",
            "    Found existing installation: torchvision 0.8.1\n",
            "    Uninstalling torchvision-0.8.1:\n",
            "      Successfully uninstalled torchvision-0.8.1\n",
            "\u001b[31mERROR: pip's dependency resolver does not currently take into account all the packages that are installed. This behaviour is the source of the following dependency conflicts.\n",
            "kornia 0.5.5 requires numpy<=1.19, but you have numpy 1.19.5 which is incompatible.\n",
            "fastai 2.2.7 requires torch<1.8,>=1.7.0, but you have torch 1.9.0 which is incompatible.\n",
            "fastai 2.2.7 requires torchvision<0.9,>=0.8, but you have torchvision 0.10.0 which is incompatible.\n",
            "allennlp 2.5.0 requires torch<1.9.0,>=1.6.0, but you have torch 1.9.0 which is incompatible.\n",
            "allennlp 2.5.0 requires torchvision<0.10.0,>=0.8.1, but you have torchvision 0.10.0 which is incompatible.\u001b[0m\n",
            "Successfully installed torch-1.9.0 torchvision-0.10.0\n",
            "\u001b[33mWARNING: Running pip as root will break packages and permissions. You should install packages reliably by using venv: https://pip.pypa.io/warnings/venv\u001b[0m\n"
          ],
          "name": "stdout"
        }
      ]
    },
    {
      "cell_type": "code",
      "metadata": {
        "execution": {
          "iopub.status.busy": "2021-07-09T14:38:09.755672Z",
          "iopub.execute_input": "2021-07-09T14:38:09.755927Z",
          "iopub.status.idle": "2021-07-09T14:38:46.228178Z",
          "shell.execute_reply.started": "2021-07-09T14:38:09.755900Z",
          "shell.execute_reply": "2021-07-09T14:38:46.227245Z"
        },
        "trusted": true,
        "id": "q8ne4HKWchR4",
        "outputId": "27693669-bad8-4466-de64-082e54b44c4e"
      },
      "source": [
        "!pip install -q torch-scatter -f https://pytorch-geometric.com/whl/torch-1.9.0+cu102.html\n",
        "!pip install -q torch-sparse -f https://pytorch-geometric.com/whl/torch-1.9.0+cu102.html\n",
        "!pip install -q torch-geometric\n",
        "!pip install -q git+https://github.com/snap-stanford/deepsnap.git"
      ],
      "execution_count": null,
      "outputs": [
        {
          "output_type": "stream",
          "text": [
            "\u001b[33mWARNING: Running pip as root will break packages and permissions. You should install packages reliably by using venv: https://pip.pypa.io/warnings/venv\u001b[0m\n",
            "\u001b[33mWARNING: Running pip as root will break packages and permissions. You should install packages reliably by using venv: https://pip.pypa.io/warnings/venv\u001b[0m\n",
            "\u001b[33mWARNING: Running pip as root will break packages and permissions. You should install packages reliably by using venv: https://pip.pypa.io/warnings/venv\u001b[0m\n",
            "\u001b[33mWARNING: Running pip as root will break packages and permissions. You should install packages reliably by using venv: https://pip.pypa.io/warnings/venv\u001b[0m\n"
          ],
          "name": "stdout"
        }
      ]
    },
    {
      "cell_type": "code",
      "metadata": {
        "_uuid": "8f2839f25d086af736a60e9eeb907d3b93b6e0e5",
        "_cell_guid": "b1076dfc-b9ad-4769-8c92-a6c4dae69d19",
        "execution": {
          "iopub.status.busy": "2021-07-09T14:38:46.232252Z",
          "iopub.execute_input": "2021-07-09T14:38:46.232547Z",
          "iopub.status.idle": "2021-07-09T14:38:53.663006Z",
          "shell.execute_reply.started": "2021-07-09T14:38:46.232517Z",
          "shell.execute_reply": "2021-07-09T14:38:53.662170Z"
        },
        "trusted": true,
        "id": "cHWSop6DchR5"
      },
      "source": [
        "import torch\n",
        "import warnings\n",
        "import networkx as nx\n",
        "import matplotlib.pyplot as plt\n",
        "import scipy\n",
        "from scipy import io\n",
        "from pylab import *\n",
        "from copy import deepcopy\n",
        "from deepsnap.graph import Graph\n",
        "from deepsnap.batch import Batch\n",
        "from deepsnap.dataset import GraphDataset\n",
        "from torch.utils.data import DataLoader\n",
        "from torch_geometric.nn import VGAE\n",
        "import copy\n",
        "import torch.nn as nn\n",
        "import networkx as nx\n",
        "import torch.nn.functional as F\n",
        "import matplotlib.pyplot as plt\n",
        "import numpy as np\n",
        "from sklearn.metrics import roc_auc_score,precision_score,recall_score\n",
        "from torch_geometric.datasets import Planetoid, TUDataset\n",
        "from torch_geometric.nn import SAGEConv,GCNConv,GATConv,SGConv,GENConv,HypergraphConv\n",
        "from tqdm.notebook import tqdm\n",
        "import numpy as np\n",
        "# Disable DeepSNAP warnings for clearer printout in the tutorial\n",
        "warnings.filterwarnings(\"ignore\")"
      ],
      "execution_count": null,
      "outputs": []
    },
    {
      "cell_type": "code",
      "metadata": {
        "execution": {
          "iopub.status.busy": "2021-07-09T14:38:53.664482Z",
          "iopub.execute_input": "2021-07-09T14:38:53.664838Z",
          "iopub.status.idle": "2021-07-09T14:38:53.939431Z",
          "shell.execute_reply.started": "2021-07-09T14:38:53.664801Z",
          "shell.execute_reply": "2021-07-09T14:38:53.938535Z"
        },
        "trusted": true,
        "id": "4UNsIJ0gchR6"
      },
      "source": [
        "### Loading Matrix\n",
        "x = scipy.sparse.load_npz('deep_patient_matrix.npz')\n",
        "x = x.astype(np.float64)"
      ],
      "execution_count": null,
      "outputs": []
    },
    {
      "cell_type": "code",
      "metadata": {
        "execution": {
          "iopub.status.busy": "2021-07-09T14:39:15.792472Z",
          "iopub.execute_input": "2021-07-09T14:39:15.792808Z",
          "iopub.status.idle": "2021-07-09T14:41:05.372269Z",
          "shell.execute_reply.started": "2021-07-09T14:39:15.792777Z",
          "shell.execute_reply": "2021-07-09T14:41:05.371287Z"
        },
        "trusted": true,
        "id": "l8h1O3gdchR6"
      },
      "source": [
        "## Building Graph\n",
        "G = nx.from_scipy_sparse_matrix(x).to_undirected()"
      ],
      "execution_count": null,
      "outputs": []
    },
    {
      "cell_type": "code",
      "metadata": {
        "execution": {
          "iopub.status.busy": "2021-07-09T14:41:05.373891Z",
          "iopub.execute_input": "2021-07-09T14:41:05.374248Z",
          "iopub.status.idle": "2021-07-09T14:41:05.381664Z",
          "shell.execute_reply.started": "2021-07-09T14:41:05.374209Z",
          "shell.execute_reply": "2021-07-09T14:41:05.380748Z"
        },
        "trusted": true,
        "id": "6dKmQJIFchR6"
      },
      "source": [
        "## assigning patient = [0,1]  and disease = [1,0] and then adding it as a input feature\n",
        "num = 30000  ## no of patient\n",
        "pat = torch.ones(num,2)\n",
        "pat[:,0] = torch.zeros(num,)\n",
        "dis = torch.ones(47364,2)\n",
        "dis[:,1] = torch.zeros(47364,)\n",
        "attr = torch.ones(num+47364,2)\n",
        "attr[:num] = pat\n",
        "attr[num:] = dis"
      ],
      "execution_count": null,
      "outputs": []
    },
    {
      "cell_type": "code",
      "metadata": {
        "execution": {
          "iopub.status.busy": "2021-07-09T14:41:05.383545Z",
          "iopub.execute_input": "2021-07-09T14:41:05.383900Z",
          "iopub.status.idle": "2021-07-09T14:41:05.517469Z",
          "shell.execute_reply.started": "2021-07-09T14:41:05.383865Z",
          "shell.execute_reply": "2021-07-09T14:41:05.516628Z"
        },
        "trusted": true,
        "id": "HGH2KCaNchR7"
      },
      "source": [
        "## converting to dictionary \n",
        "attribute = {}\n",
        "for i in range(num+47364):\n",
        "    attribute[i] = attr[i]"
      ],
      "execution_count": null,
      "outputs": []
    },
    {
      "cell_type": "code",
      "metadata": {
        "execution": {
          "iopub.status.busy": "2021-07-09T14:41:05.518889Z",
          "iopub.execute_input": "2021-07-09T14:41:05.519240Z",
          "iopub.status.idle": "2021-07-09T14:41:05.607264Z",
          "shell.execute_reply.started": "2021-07-09T14:41:05.519202Z",
          "shell.execute_reply": "2021-07-09T14:41:05.606522Z"
        },
        "trusted": true,
        "id": "bkXPhdrnchR7"
      },
      "source": [
        "## updating those attributes as node feature\n",
        "nx.set_node_attributes(G,attribute,\"node_feature\")"
      ],
      "execution_count": null,
      "outputs": []
    },
    {
      "cell_type": "code",
      "metadata": {
        "execution": {
          "iopub.status.busy": "2021-07-09T14:41:05.608521Z",
          "iopub.execute_input": "2021-07-09T14:41:05.609025Z",
          "iopub.status.idle": "2021-07-09T14:41:06.261515Z",
          "shell.execute_reply.started": "2021-07-09T14:41:05.608987Z",
          "shell.execute_reply": "2021-07-09T14:41:06.260607Z"
        },
        "trusted": true,
        "id": "izx1_1f7chR8"
      },
      "source": [
        "class LinkPredModel(torch.nn.Module):\n",
        "    def __init__(self, input_size, hidden_dim,num_layers=5,output_dim=128):\n",
        "        super(LinkPredModel, self).__init__()\n",
        "\n",
        "        self.loss_fn = torch.nn.BCEWithLogitsLoss()\n",
        "        self.list = []\n",
        "        self.list.append(input_dim)\n",
        "        for i in range(num_layers-2):\n",
        "           self.list.append(hidden_dim)\n",
        "        self.list.append(output_dim)\n",
        "        self.convs = torch.nn.ModuleList([SAGEConv(self.list[i],self.list[i+1])for i in range(num_layers-1)]) ## use GCNConv,SGConv,SAGEConv for respective models\n",
        "        self.bns = torch.nn.ModuleList([torch.nn.BatchNorm1d(self.list[i+1])for i in range(num_layers-1)])\n",
        "        self.dropout = torch.nn.Dropout(0.5)\n",
        "\n",
        "    def forward(self, batch,test = False):\n",
        "        x, edge_index, edge_label_index = batch.node_feature, batch.edge_index, batch.edge_label_index\n",
        "        x = x.float()\n",
        "        for i in range(len(self.convs)-1):\n",
        "            x = self.convs[i](x,edge_index)\n",
        "            x = self.bns[i](x)\n",
        "            x = torch.nn.functional.relu(x)\n",
        "            x = self.dropout(x)   \n",
        "        x = self.convs[i+1](x,edge_index)\n",
        "        if test == True :  ## if in test phase then return all the embeddings of nodes otherwise find scores of given edges\n",
        "            return x\n",
        "        nodes_first = torch.index_select(x, 0, edge_label_index[0,:].long())\n",
        "        nodes_second = torch.index_select(x, 0, edge_label_index[1,:].long())\n",
        "        pred = torch.sum(nodes_first * nodes_second, dim=-1)\n",
        "        return pred\n",
        "    \n"
      ],
      "execution_count": null,
      "outputs": []
    },
    {
      "cell_type": "code",
      "metadata": {
        "execution": {
          "iopub.status.busy": "2021-07-09T14:55:57.853184Z",
          "iopub.execute_input": "2021-07-09T14:55:57.853519Z",
          "iopub.status.idle": "2021-07-09T14:55:57.860891Z",
          "shell.execute_reply.started": "2021-07-09T14:55:57.853486Z",
          "shell.execute_reply": "2021-07-09T14:55:57.859954Z"
        },
        "trusted": true,
        "id": "WZ8GXK7achR9"
      },
      "source": [
        "## BCE Loss Function\n",
        "bce_loss = torch.nn.BCEWithLogitsLoss()\n",
        "def bceloss( pred, label):\n",
        "        loss = bce_loss(pred,label)\n",
        "        return loss\n",
        "def f1_loss(pred,label):\n",
        "        y = torch.sigmoid(pred)\n",
        "        tp = torch.sum(label*y)\n",
        "        fp = torch.sum((1-label)*y)\n",
        "        fn = torch.sum((1-y)*label)\n",
        "        soft_f1 = (2*tp+1e-16) / (tp + 0.3*fn+ 1.7*fp + 1e-16)\n",
        "        sz = y.shape[0]\n",
        "        return 1-soft_f1\n",
        "def delta_loss(pred,label,delta=0.4):  ## Max Margin Loss\n",
        "    pred = torch.sigmoid(pred)\n",
        "    pos = (label)*pred\n",
        "    neg = (1-label)*pred\n",
        "    score = delta+neg-pos\n",
        "    score = torch.maximum(score,torch.zeros(1).to('cuda'))\n",
        "    score = torch.mean(score)\n",
        "    return score"
      ],
      "execution_count": null,
      "outputs": []
    },
    {
      "cell_type": "code",
      "metadata": {
        "execution": {
          "iopub.status.busy": "2021-07-09T14:41:10.623005Z",
          "iopub.execute_input": "2021-07-09T14:41:10.623390Z",
          "iopub.status.idle": "2021-07-09T14:41:10.639300Z",
          "shell.execute_reply.started": "2021-07-09T14:41:10.623337Z",
          "shell.execute_reply": "2021-07-09T14:41:10.638373Z"
        },
        "trusted": true,
        "id": "S1IbPegXchR9"
      },
      "source": [
        "def train(model, dataloaders, optimizer, args):\n",
        "    val_max = 0\n",
        "    best_model = model\n",
        "\n",
        "    for epoch in tqdm(range(1, args[\"epochs\"])):\n",
        "        for i, batch in enumerate(dataloaders['train']):\n",
        "            batch.to(args[\"device\"])\n",
        "            model.train()\n",
        "            optimizer.zero_grad()\n",
        "            pred = model(batch)\n",
        "            loss = bceloss(pred,batch.edge_label.type(pred.dtype))\n",
        "            loss.backward()\n",
        "            optimizer.step()\n",
        "\n",
        "            log = 'Epoch: {:03d}, Train_prec: {:.4f},Train_rec: {:.4f}, Val_prec: {:.4f},Val_rec: {:.4f}, Test_prec: {:.4f},Test_rec: {:.4f}, Loss: {:.5f}'\n",
        "            precision_train,recall_train = test(model, dataloaders['train'], args)\n",
        "            precision_val,recall_val = test(model, dataloaders['val'], args)\n",
        "            precision_test,recall_test = test(model, dataloaders['test'], args)\n",
        "\n",
        "            print(log.format(epoch, precision_train,recall_train, precision_val,recall_val, precision_test,recall_test, loss.item()))\n",
        "            if val_max < precision_val:\n",
        "                val_max = precision_val\n",
        "                best_model = copy.deepcopy(model)\n",
        "    return model\n",
        "\n",
        "def test(model, dataloader,args,th =0.55):\n",
        "    model.eval()\n",
        "    score = 0\n",
        "    score1 = 0\n",
        "    score2 = 0\n",
        "    num_batches = 0\n",
        "    for batch in dataloader:\n",
        "        batch.to(args[\"device\"])\n",
        "        pred = model(batch)\n",
        "        pred2 = torch.sigmoid(pred)\n",
        "        pred = (pred2>th)*1\n",
        "        score1 += precision_score(batch.edge_label.flatten().cpu().numpy(), pred.flatten().data.cpu().numpy())\n",
        "        score2 += recall_score(batch.edge_label.flatten().cpu().numpy(), pred.flatten().data.cpu().numpy())\n",
        "        score += roc_auc_score(batch.edge_label.flatten().cpu().numpy(), pred2.flatten().data.cpu().numpy())\n",
        "        num_batches += 1\n",
        "    score1 /= num_batches\n",
        "    score2 /= num_batches\n",
        "    score /= num_batches\n",
        "    print(\"Auc = \", score)\n",
        "    return score1,score2\n",
        "\n"
      ],
      "execution_count": null,
      "outputs": []
    },
    {
      "cell_type": "code",
      "metadata": {
        "execution": {
          "iopub.status.busy": "2021-07-09T14:41:14.762687Z",
          "iopub.execute_input": "2021-07-09T14:41:14.763374Z",
          "iopub.status.idle": "2021-07-09T14:44:56.599210Z",
          "shell.execute_reply.started": "2021-07-09T14:41:14.763312Z",
          "shell.execute_reply": "2021-07-09T14:44:56.598368Z"
        },
        "trusted": true,
        "id": "xIaAxtRcchR-"
      },
      "source": [
        "## Loading Dataset and splitting into train,val and test data\n",
        "dataset = GraphDataset(\n",
        "        Graph(G),\n",
        "        task='link_pred',\n",
        "        edge_train_mode=\"disjoint\"\n",
        "    )\n",
        "datasets = {}\n",
        "datasets['train'], datasets['val'], datasets['test']= dataset.split(\n",
        "            transductive=True, split_ratio=[0.9, 0.04, 0.06])\n",
        "dataloaders = {split: DataLoader(\n",
        "            ds, collate_fn=Batch.collate([]),\n",
        "            batch_size=1, shuffle=(split=='train'))\n",
        "            for split, ds in datasets.items()}"
      ],
      "execution_count": null,
      "outputs": []
    },
    {
      "cell_type": "code",
      "metadata": {
        "execution": {
          "iopub.status.busy": "2021-07-09T15:00:33.272847Z",
          "iopub.execute_input": "2021-07-09T15:00:33.273166Z",
          "iopub.status.idle": "2021-07-09T15:00:33.277953Z",
          "shell.execute_reply.started": "2021-07-09T15:00:33.273134Z",
          "shell.execute_reply": "2021-07-09T15:00:33.276896Z"
        },
        "trusted": true,
        "id": "U6fkOkWQchR-"
      },
      "source": [
        "### GCN Conv - Hidden dim = 128\n",
        "### SG Conv - Hidden dim = 128\n",
        "### Graph sage - Hidden dim = 64\n",
        "args = {\n",
        "    \"device\" : 'cuda' if torch.cuda.is_available() else 'cpu',\n",
        "    \"hidden_dim\" : 64,  \n",
        "    'num_layers': 4,\n",
        "    \"epochs\" : 10,\n",
        "}"
      ],
      "execution_count": null,
      "outputs": []
    },
    {
      "cell_type": "code",
      "metadata": {
        "execution": {
          "iopub.status.busy": "2021-07-09T14:45:33.192936Z",
          "iopub.execute_input": "2021-07-09T14:45:33.193281Z",
          "iopub.status.idle": "2021-07-09T14:46:00.286507Z",
          "shell.execute_reply.started": "2021-07-09T14:45:33.193248Z",
          "shell.execute_reply": "2021-07-09T14:46:00.285633Z"
        },
        "trusted": true,
        "id": "wCQkB2e-chR_"
      },
      "source": [
        "input_dim = datasets['train'].num_node_features\n",
        "num_classes = datasets['train'].num_edge_labels\n",
        "model = LinkPredModel(input_dim, args[\"hidden_dim\"]).to(args[\"device\"])"
      ],
      "execution_count": null,
      "outputs": []
    },
    {
      "cell_type": "code",
      "metadata": {
        "execution": {
          "iopub.status.busy": "2021-07-09T10:49:47.729364Z",
          "iopub.execute_input": "2021-07-09T10:49:47.729698Z",
          "iopub.status.idle": "2021-07-09T10:49:47.744453Z",
          "shell.execute_reply.started": "2021-07-09T10:49:47.729668Z",
          "shell.execute_reply": "2021-07-09T10:49:47.743645Z"
        },
        "trusted": true,
        "id": "FRg59HIgchR_"
      },
      "source": [
        "## Loading Pre trained Model\n",
        "### Gcn - gcn.pth\n",
        "### SGConv - sgconv.pth\n",
        "## graphsage - graphsage.pth\n",
        "model = torch.load('Model/gcn.pth')"
      ],
      "execution_count": null,
      "outputs": []
    },
    {
      "cell_type": "markdown",
      "metadata": {
        "id": "0DjMknAIchR_"
      },
      "source": [
        "### Training"
      ]
    },
    {
      "cell_type": "code",
      "metadata": {
        "execution": {
          "iopub.status.busy": "2021-07-09T15:02:34.968987Z",
          "iopub.execute_input": "2021-07-09T15:02:34.969322Z",
          "iopub.status.idle": "2021-07-09T15:03:59.067676Z",
          "shell.execute_reply.started": "2021-07-09T15:02:34.969289Z",
          "shell.execute_reply": "2021-07-09T15:03:59.066654Z"
        },
        "trusted": true,
        "colab": {
          "referenced_widgets": [
            "1b7e00c652604236bbd3d0ed3782098f"
          ]
        },
        "id": "ybylEiCqchR_",
        "outputId": "cc87a84d-b246-42b0-b919-3bed9a52f29b"
      },
      "source": [
        "input_dim = datasets['train'].num_node_features\n",
        "num_classes = datasets['train'].num_edge_labels\n",
        "model = LinkPredModel(input_dim, args[\"hidden_dim\"]).to(args[\"device\"])\n",
        "optimizer = torch.optim.SGD(model.parameters(), lr=0.01, momentum=0.9, weight_decay=5e-4)\n",
        "best_model = train(model, dataloaders, optimizer, args)\n",
        "log = \"Train: {:.4f}, Val: {:.4f}, Test: {:.4f}\"\n",
        "best_train_prec,best_train_rec = test(best_model, dataloaders['train'], args)\n",
        "best_val_prec,best_val_rec = test(best_model, dataloaders['val'],args)\n",
        "best_test_prec,best_test_rec = test(best_model, dataloaders['test'], args)\n",
        "print(log.format(best_train_prec,best_train_rec,best_val_prec,best_val_rec,best_test_prec,best_test_rec))"
      ],
      "execution_count": null,
      "outputs": [
        {
          "output_type": "display_data",
          "data": {
            "text/plain": [
              "  0%|          | 0/9 [00:00<?, ?it/s]"
            ],
            "application/vnd.jupyter.widget-view+json": {
              "version_major": 2,
              "version_minor": 0,
              "model_id": "1b7e00c652604236bbd3d0ed3782098f"
            }
          },
          "metadata": {
            "tags": []
          }
        },
        {
          "output_type": "stream",
          "text": [
            "Auc =  0.7000026728941713\n",
            "Auc =  0.6971178849486117\n",
            "Auc =  0.6944624922886302\n",
            "Epoch: 001, Train_prec: 0.6169,Train_rec: 0.9960, Val_prec: 0.6077,Val_rec: 0.9968, Test_prec: 0.6045,Test_rec: 0.9967, Loss: 0.60418\n",
            "Auc =  0.7245704691171833\n",
            "Auc =  0.7217507358231331\n",
            "Auc =  0.7219924923093036\n",
            "Epoch: 002, Train_prec: 0.6168,Train_rec: 0.9960, Val_prec: 0.6077,Val_rec: 0.9968, Test_prec: 0.6045,Test_rec: 0.9967, Loss: 0.60469\n",
            "Auc =  0.7499456175517525\n",
            "Auc =  0.742483280257166\n",
            "Auc =  0.741625625794974\n",
            "Epoch: 003, Train_prec: 0.6163,Train_rec: 0.9960, Val_prec: 0.6077,Val_rec: 0.9968, Test_prec: 0.6045,Test_rec: 0.9967, Loss: 0.60406\n",
            "Auc =  0.7727191172397878\n",
            "Auc =  0.7712639750259999\n",
            "Auc =  0.7657975774099868\n",
            "Epoch: 004, Train_prec: 0.6167,Train_rec: 0.9960, Val_prec: 0.6077,Val_rec: 0.9968, Test_prec: 0.6045,Test_rec: 0.9967, Loss: 0.60394\n",
            "Auc =  0.7352137841959624\n",
            "Auc =  0.7263089244281665\n",
            "Auc =  0.7222179355900185\n",
            "Epoch: 005, Train_prec: 0.6168,Train_rec: 0.9960, Val_prec: 0.6077,Val_rec: 0.9968, Test_prec: 0.6045,Test_rec: 0.9967, Loss: 0.60367\n",
            "Auc =  0.6254996705266752\n",
            "Auc =  0.611330583471211\n",
            "Auc =  0.6080093974134245\n",
            "Epoch: 006, Train_prec: 0.6169,Train_rec: 0.9960, Val_prec: 0.6077,Val_rec: 0.9968, Test_prec: 0.6045,Test_rec: 0.9967, Loss: 0.60278\n",
            "Auc =  0.6899717397593934\n",
            "Auc =  0.67244038715851\n",
            "Auc =  0.6668912704541352\n",
            "Epoch: 007, Train_prec: 0.6168,Train_rec: 0.9960, Val_prec: 0.6077,Val_rec: 0.9968, Test_prec: 0.6045,Test_rec: 0.9967, Loss: 0.60269\n",
            "Auc =  0.7477735636782488\n",
            "Auc =  0.7572807701722274\n",
            "Auc =  0.7568162524319465\n",
            "Epoch: 008, Train_prec: 0.6168,Train_rec: 0.9960, Val_prec: 0.6077,Val_rec: 0.9968, Test_prec: 0.6045,Test_rec: 0.9967, Loss: 0.60336\n",
            "Auc =  0.7305769154956288\n",
            "Auc =  0.7280563998707964\n",
            "Auc =  0.7256836625399721\n",
            "Epoch: 009, Train_prec: 0.6168,Train_rec: 0.9960, Val_prec: 0.6077,Val_rec: 0.9968, Test_prec: 0.6045,Test_rec: 0.9967, Loss: 0.60277\n",
            "Auc =  0.7305504367938365\n",
            "Auc =  0.7280643384515286\n",
            "Auc =  0.7256516947985695\n",
            "Train: 0.6168, Val: 0.9960, Test: 0.6077\n"
          ],
          "name": "stdout"
        }
      ]
    },
    {
      "cell_type": "markdown",
      "metadata": {
        "id": "FH8Q1n5_chSA"
      },
      "source": [
        "### Testing"
      ]
    },
    {
      "cell_type": "code",
      "metadata": {
        "execution": {
          "iopub.status.busy": "2021-07-09T15:04:03.902703Z",
          "iopub.execute_input": "2021-07-09T15:04:03.903027Z",
          "iopub.status.idle": "2021-07-09T15:04:04.000079Z",
          "shell.execute_reply.started": "2021-07-09T15:04:03.902995Z",
          "shell.execute_reply": "2021-07-09T15:04:03.999243Z"
        },
        "trusted": true,
        "id": "bPfiXehvchSA"
      },
      "source": [
        "with torch.no_grad():\n",
        "    model.eval()    \n",
        "    for batch in dataloaders['test']:\n",
        "        batch.to(args[\"device\"])\n",
        "        pred2 = model(batch,test = True)"
      ],
      "execution_count": null,
      "outputs": []
    },
    {
      "cell_type": "code",
      "metadata": {
        "execution": {
          "iopub.status.busy": "2021-07-09T15:06:00.263421Z",
          "iopub.execute_input": "2021-07-09T15:06:00.263753Z",
          "iopub.status.idle": "2021-07-09T15:08:33.712575Z",
          "shell.execute_reply.started": "2021-07-09T15:06:00.263720Z",
          "shell.execute_reply": "2021-07-09T15:08:33.707178Z"
        },
        "trusted": true,
        "colab": {
          "referenced_widgets": [
            "39e632bbb9ef462ab9ec1a2106e53985"
          ]
        },
        "id": "uPNW76MSchSA",
        "outputId": "5b30cb4f-fd4f-47b6-bade-21ed52a29721"
      },
      "source": [
        "mat = x ## adjacency matrix\n",
        "nrecommend = 100\n",
        "total_recommendable = 3021969\n",
        "hit = 0 ## Counting no of hit\n",
        "\n",
        "for k in tqdm(range(30)): ## 1000 patient at a time so total 30 times\n",
        "    pred = pred2[(k)*1000:(k+1)*1000].matmul(pred2[30000:].t()) ### dot product of patient score and disease score (pred2[30000:]) \n",
        "    sorted, indices = torch.sort(pred)  ## sorting scores to get top k scores\n",
        "    for i in range(1000):\n",
        "        \n",
        "       for j in range(nrecommend):   ### top 100 scores\n",
        "          if mat[i,indices[i][47363-j].item()+30000] == 1 : ## Checking if it's a hit\n",
        "            hit=hit+1\n",
        "precision = hit/(30000*nrecommend)\n",
        "recall = hit/total_recommendable\n",
        "print(\"no of hits = \",hit,\"Recall = \", recall,\"Precison = \",precision)"
      ],
      "execution_count": null,
      "outputs": [
        {
          "output_type": "display_data",
          "data": {
            "text/plain": [
              "  0%|          | 0/30 [00:00<?, ?it/s]"
            ],
            "application/vnd.jupyter.widget-view+json": {
              "version_major": 2,
              "version_minor": 0,
              "model_id": "39e632bbb9ef462ab9ec1a2106e53985"
            }
          },
          "metadata": {
            "tags": []
          }
        },
        {
          "output_type": "stream",
          "text": [
            "no of hits =  775978 Recall =  0.2567789411473116 Precison =  0.25865933333333335\n"
          ],
          "name": "stdout"
        }
      ]
    },
    {
      "cell_type": "code",
      "metadata": {
        "id": "5GJQZc0DgJPW"
      },
      "source": [
        "### prediction for patient \n",
        "id = 1 ## id or index no of patient\n",
        "top_k = 10 ## top k predictions\n",
        "icd_code = np.load('Models/icd_codes.npy',allow_pickle = True)\n",
        "pred = pred2[id].matmul(pred2[30000:].t())\n",
        "sorted, indices = torch.sort(pred)\n",
        "for j in range(top_k-1,-1,-1):\n",
        "   idx = indices[47363-j].item()\n",
        "   if mat[idx+30000] == 1 :\n",
        "       print(icd_code[idx],\"Hit\")\n",
        "   else:\n",
        "       print(icd_code[idx],\"Miss\")\n",
        "\n"
      ],
      "execution_count": null,
      "outputs": []
    },
    {
      "cell_type": "markdown",
      "metadata": {
        "id": "Hdc5xgLDchSA"
      },
      "source": [
        "## Variational Graph Autoencoder"
      ]
    },
    {
      "cell_type": "code",
      "metadata": {
        "execution": {
          "iopub.status.busy": "2021-07-09T10:54:42.310078Z",
          "iopub.execute_input": "2021-07-09T10:54:42.310415Z",
          "iopub.status.idle": "2021-07-09T10:54:42.314733Z",
          "shell.execute_reply.started": "2021-07-09T10:54:42.310384Z",
          "shell.execute_reply": "2021-07-09T10:54:42.313547Z"
        },
        "trusted": true,
        "id": "wWem4IQwchSB"
      },
      "source": [
        "from torch_geometric.nn import VGAE"
      ],
      "execution_count": null,
      "outputs": []
    },
    {
      "cell_type": "code",
      "metadata": {
        "execution": {
          "iopub.status.busy": "2021-07-09T10:54:58.25582Z",
          "iopub.execute_input": "2021-07-09T10:54:58.25613Z",
          "iopub.status.idle": "2021-07-09T10:54:58.265865Z",
          "shell.execute_reply.started": "2021-07-09T10:54:58.256102Z",
          "shell.execute_reply": "2021-07-09T10:54:58.265023Z"
        },
        "trusted": true,
        "id": "EPMLKiYhchSB"
      },
      "source": [
        "class VariationalGCNEncoder(torch.nn.Module):\n",
        "    def __init__(self, input_dim, output_dim,hidden_dim,num_layers):\n",
        "        super(VariationalGCNEncoder, self).__init__()\n",
        "        self.list = []\n",
        "        self.list.append(input_dim)\n",
        "        for i in range(num_layers-2):\n",
        "           self.list.append(hidden_dim)\n",
        "        self.list.append(output_dim)\n",
        "        self.convs = torch.nn.ModuleList([GCNConv(self.list[i],self.list[i+1])for i in range(num_layers-1)])\n",
        "        self.conv_mu = GCNConv( out_channels, out_channels//2)\n",
        "        self.conv_logstd = GCNConv( out_channels, out_channels//2)\n",
        "        self.bns = torch.nn.ModuleList([torch.nn.BatchNorm1d(self.list[i+1])for i in range(num_layers-1)])\n",
        "        self.dropout = torch.nn.Dropout(0.5)\n",
        "\n",
        "    def forward(self, x, edge_index):\n",
        "        for i in range(len(self.convs)-1):\n",
        "            x = self.convs[i](x,edge_index)\n",
        "            x = self.bns[i](x)\n",
        "            x = torch.nn.functional.relu(x)\n",
        "            x = self.dropout(x)\n",
        "        x = self.convs[i+1](x,edge_index)\n",
        "        x = torch.nn.functional.relu(x)\n",
        "        return self.conv_mu(x, edge_index), self.conv_logstd(x, edge_index)"
      ],
      "execution_count": null,
      "outputs": []
    },
    {
      "cell_type": "code",
      "metadata": {
        "execution": {
          "iopub.status.busy": "2021-07-09T10:56:29.878501Z",
          "iopub.execute_input": "2021-07-09T10:56:29.87889Z",
          "iopub.status.idle": "2021-07-09T10:56:29.89347Z",
          "shell.execute_reply.started": "2021-07-09T10:56:29.878859Z",
          "shell.execute_reply": "2021-07-09T10:56:29.892673Z"
        },
        "trusted": true,
        "id": "V3L1fqrechSB"
      },
      "source": [
        "def train(model, dataloaders, optimizer, args):\n",
        "    val_max = 0\n",
        "    best_model = model\n",
        "\n",
        "    for epoch in tqdm(range(1, args[\"epochs\"])):\n",
        "        for i, batch in enumerate(dataloaders['train']):\n",
        "            batch.to(args[\"device\"])\n",
        "            model.train()\n",
        "            optimizer.zero_grad()\n",
        "            \n",
        "            x, edge_index, edge_label_index = batch.node_feature, batch.edge_index, batch.edge_label_index\n",
        "\n",
        "            x = x.float()\n",
        "            z = model.encode(x, edge_index)\n",
        "            \n",
        "            half = int(batch.edge_label.shape[0]/2)\n",
        "            pos_index = edge_label_index[:,0:half]\n",
        "            neg_index = edge_label_index[:,half:]\n",
        "            \n",
        "            loss = model.recon_loss(z, pos_index,neg_index)\n",
        "            loss = loss + (1 / batch.node_feature.shape[0]) * model.kl_loss()  \n",
        "            loss.backward()\n",
        "            optimizer.step()\n",
        "            \n",
        "\n",
        "            log = 'Epoch: {:03d}, Train_prec: {:.4f},Train_rec: {:.4f}, Val_prec: {:.4f},Val_rec: {:.4f}, Test_prec: {:.4f},Test_rec: {:.4f}, Loss: {:.5f}'\n",
        "            precision_train,recall_train = test(model, dataloaders['train'], args)\n",
        "            precision_val,recall_val = test(model, dataloaders['val'], args)\n",
        "            precision_test,recall_test = test(model, dataloaders['test'], args)\n",
        "\n",
        "            print(log.format(epoch, precision_train,recall_train, precision_val,recall_val, precision_test,recall_test, loss.item()))\n",
        "            if val_max < precision_val:\n",
        "                val_max = precision_val\n",
        "                torch.save(model,'vgae.pth') \n",
        "    return model\n",
        "def test(model, dataloader,args,th =0.55):\n",
        "    model.eval()\n",
        "    score = 0\n",
        "    score1 = 0\n",
        "    score2 = 0\n",
        "    num_batches = 0\n",
        "    for batch in dataloader:\n",
        "        batch.to(args[\"device\"])\n",
        "        x, edge_index, edge_label_index = batch.node_feature, batch.edge_index, batch.edge_label_index\n",
        "        x = x.float()\n",
        "        z = model.encode(x, edge_index)\n",
        "        pred = model.decoder(z,batch.edge_label_index,sigmoid=False)\n",
        "        pred2 = torch.sigmoid(pred)\n",
        "        pred = (pred2>th)*1\n",
        "        score1 += precision_score(batch.edge_label.flatten().cpu().numpy(), pred.flatten().data.cpu().numpy())\n",
        "        score2 += recall_score(batch.edge_label.flatten().cpu().numpy(), pred.flatten().data.cpu().numpy())\n",
        "        score += roc_auc_score(batch.edge_label.flatten().cpu().numpy(), pred2.flatten().data.cpu().numpy())\n",
        "        num_batches += 1\n",
        "    score1 /= num_batches\n",
        "    score2 /= num_batches\n",
        "    score /= num_batches\n",
        "    print(\"Auc = \", score)\n",
        "    return score1,score2\n"
      ],
      "execution_count": null,
      "outputs": []
    },
    {
      "cell_type": "code",
      "metadata": {
        "execution": {
          "iopub.status.busy": "2021-07-09T10:56:52.468733Z",
          "iopub.execute_input": "2021-07-09T10:56:52.469064Z",
          "iopub.status.idle": "2021-07-09T10:56:52.472972Z",
          "shell.execute_reply.started": "2021-07-09T10:56:52.469027Z",
          "shell.execute_reply": "2021-07-09T10:56:52.47206Z"
        },
        "trusted": true,
        "id": "49MLktoochSC"
      },
      "source": [
        "args = {\n",
        "    \"device\" : 'cuda' if torch.cuda.is_available() else 'cpu',\n",
        "    \"hidden_dim\" : 64,\n",
        "    'num_layers': 4,\n",
        "    \"epochs\" : 70,\n",
        "}"
      ],
      "execution_count": null,
      "outputs": []
    },
    {
      "cell_type": "code",
      "metadata": {
        "execution": {
          "iopub.status.busy": "2021-07-09T10:57:10.555894Z",
          "iopub.execute_input": "2021-07-09T10:57:10.556242Z",
          "iopub.status.idle": "2021-07-09T10:57:10.56773Z",
          "shell.execute_reply.started": "2021-07-09T10:57:10.556211Z",
          "shell.execute_reply": "2021-07-09T10:57:10.566798Z"
        },
        "trusted": true,
        "id": "U0RJI3TAchSC"
      },
      "source": [
        "out_channels = 64\n",
        "num_features = datasets['train'].num_node_features\n",
        "epochs = 70\n",
        "\n",
        "\n",
        "model = VGAE(VariationalGCNEncoder(num_features, out_channels,args[\"hidden_dim\"],args[\"num_layers\"]))  # new line\n",
        "\n",
        "device = torch.device('cuda' if torch.cuda.is_available() else 'cpu')\n",
        "model = model.to(device)\n",
        "optimizer = torch.optim.SGD(model.parameters(), lr=0.07, momentum=0.9, weight_decay=5e-4)\n"
      ],
      "execution_count": null,
      "outputs": []
    },
    {
      "cell_type": "code",
      "metadata": {
        "execution": {
          "iopub.status.busy": "2021-07-09T10:57:39.229636Z",
          "iopub.execute_input": "2021-07-09T10:57:39.229988Z",
          "iopub.status.idle": "2021-07-09T10:57:40.002015Z",
          "shell.execute_reply.started": "2021-07-09T10:57:39.229958Z",
          "shell.execute_reply": "2021-07-09T10:57:40.001057Z"
        },
        "trusted": true,
        "id": "hmN4tMRichSC"
      },
      "source": [
        "## Loading Model\n",
        "model = torch.load('Model/vgae.pth')"
      ],
      "execution_count": null,
      "outputs": []
    },
    {
      "cell_type": "markdown",
      "metadata": {
        "id": "eUv722GzchSC"
      },
      "source": [
        "### Training"
      ]
    },
    {
      "cell_type": "code",
      "metadata": {
        "id": "c1k8CANtchSC"
      },
      "source": [
        "best_model = train(model, dataloaders, optimizer, args)\n",
        "log = \"Train: {:.4f}, Val: {:.4f}, Test: {:.4f}\"\n",
        "best_train_prec,best_train_rec = test(best_model, dataloaders['train'], args)\n",
        "best_val_prec,best_val_rec = test(best_model, dataloaders['val'],args)\n",
        "best_test_prec,best_test_rec = test(best_model, dataloaders['test'], args)\n",
        "print(log.format(best_train_prec,best_train_rec,best_val_prec,best_val_rec,best_test_prec,best_test_rec))"
      ],
      "execution_count": null,
      "outputs": []
    },
    {
      "cell_type": "markdown",
      "metadata": {
        "id": "c7Qk41R5chSD"
      },
      "source": [
        "## Testing"
      ]
    },
    {
      "cell_type": "code",
      "metadata": {
        "execution": {
          "iopub.status.busy": "2021-07-09T10:59:13.615089Z",
          "iopub.execute_input": "2021-07-09T10:59:13.615401Z",
          "iopub.status.idle": "2021-07-09T10:59:13.87099Z",
          "shell.execute_reply.started": "2021-07-09T10:59:13.615373Z",
          "shell.execute_reply": "2021-07-09T10:59:13.870103Z"
        },
        "trusted": true,
        "id": "6j5OJv3UchSD"
      },
      "source": [
        "with torch.no_grad():\n",
        "    model.eval()    \n",
        "    for batch in dataloaders['test']:\n",
        "        batch.to(args[\"device\"])\n",
        "        x, edge_index, edge_label_index = batch.node_feature,batch.edge_index, batch.edge_label_index\n",
        "        x = x.float()\n",
        "        z = model.encode(x, edge_index)\n",
        "        pred2 = model.decoder(z,batch.edge_label_index,sigmoid=True)\n",
        "        z = torch.sigmoid(z)"
      ],
      "execution_count": null,
      "outputs": []
    },
    {
      "cell_type": "code",
      "metadata": {
        "execution": {
          "iopub.status.busy": "2021-07-09T11:01:39.614116Z",
          "iopub.execute_input": "2021-07-09T11:01:39.614436Z",
          "iopub.status.idle": "2021-07-09T11:01:39.710479Z",
          "shell.execute_reply.started": "2021-07-09T11:01:39.614406Z",
          "shell.execute_reply": "2021-07-09T11:01:39.709538Z"
        },
        "trusted": true,
        "id": "PnkM_UPDchSD"
      },
      "source": [
        "## Loading matrix\n",
        "mat = scipy.sparse.load_npz('deep_patient_matrix.npz')"
      ],
      "execution_count": null,
      "outputs": []
    },
    {
      "cell_type": "code",
      "metadata": {
        "execution": {
          "iopub.status.busy": "2021-07-09T11:01:45.835257Z",
          "iopub.execute_input": "2021-07-09T11:01:45.835634Z",
          "iopub.status.idle": "2021-07-09T11:04:35.382154Z",
          "shell.execute_reply.started": "2021-07-09T11:01:45.835572Z",
          "shell.execute_reply": "2021-07-09T11:04:35.381267Z"
        },
        "trusted": true,
        "id": "6QXuTmhWchSD"
      },
      "source": [
        "nrecommend = 100\n",
        "total_recommendable = 3021969\n",
        "hit = 0 ## Counting no of hit\n",
        "pred2 = z\n",
        "\n",
        "for k in tqdm(range(30)): ## 1000 patient at a time so total 30 times\n",
        "    pred = pred2[(k)*1000:(k+1)*1000].matmul(pred2[30000:].t()) ### dot product of patient score and disease score (pred2[30000:]) \n",
        "    sorted, indices = torch.sort(pred)  ## sorting scores to get top k scores\n",
        "    for i in range(1000):\n",
        "        \n",
        "       for j in range(nrecommend):   ### top 100 scores\n",
        "          if mat[i,indices[i][47363-j].item()+30000] == 1 : ## Checking if it's a hit\n",
        "            hit=hit+1\n",
        "precision = hit/(30000*nrecommend)\n",
        "recall = hit/total_recommendable\n",
        "print(\"no of hits = \",hit,\"Recall = \", recall,\"Precison = \",precision)"
      ],
      "execution_count": null,
      "outputs": []
    },
    {
      "cell_type": "code",
      "metadata": {
        "id": "jEvCL3dEchSD"
      },
      "source": [
        "### prediction for patient \n",
        "id = 1 ## id or index no of patient\n",
        "top_k = 10 ## top k predictions\n",
        "icd_code = np.load('Models/icd_codes.npy',allow_pickle = True)\n",
        "pred = z[id].matmul(z[30000:].t())\n",
        "sorted, indices = torch.sort(pred)\n",
        "for j in range(top_k-1,-1,-1):\n",
        "   idx = indices[47363-j].item()\n",
        "   if mat[idx+30000] == 1 :\n",
        "       print(icd_code[idx],\"Hit\")\n",
        "   else:\n",
        "       print(icd_code[idx],\"Miss\")"
      ],
      "execution_count": null,
      "outputs": []
    }
  ]
}